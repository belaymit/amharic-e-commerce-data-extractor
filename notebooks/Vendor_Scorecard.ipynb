{
  "cells": [
    {
      "cell_type": "raw",
      "metadata": {
        "vscode": {
          "languageId": "raw"
        }
      },
      "source": [
        "# Task 6: FinTech Vendor Scorecard (Modular Architecture)\n",
        "\n",
        "## 🎯 Business Objective\n",
        "**EthioMart's Micro-Lending Initiative**\n",
        "\n",
        "Identify promising vendors for small business loans using a **modular, maintainable** analytics engine.\n",
        "\n",
        "## 🏗️ **Modular Architecture**\n",
        "This implementation uses clean separation of concerns:\n",
        "- `src.analytics.data_loader` - Smart data loading with fallback\n",
        "- `src.analytics.entity_extraction` - Amharic NER processing  \n",
        "- `src.analytics.vendor_metrics` - Comprehensive KPI calculation\n",
        "- `src.analytics.risk_assessment` - 4-tier lending risk framework\n",
        "- `src.analytics.visualization` - Business intelligence dashboards\n",
        "- `src.analytics.export_system` - Multi-format reporting\n",
        "\n",
        "## 📊 **Key Features**\n",
        "✅ **Weighted Lending Score** (0-100) with 5 components  \n",
        "✅ **Risk Categories**: LOW/MEDIUM/HIGH/VERY_HIGH  \n",
        "✅ **Loan Recommendations**: 5K-100K ETB range  \n",
        "✅ **BI Dashboard**: 9 comprehensive visualizations  \n",
        "✅ **Export System**: CSV, JSON, TXT reports\n",
        "\n",
        "---\n"
      ]
    },
    {
      "cell_type": "code",
      "execution_count": null,
      "metadata": {},
      "outputs": [],
      "source": [
        "# Streamlined imports for modular analytics\n",
        "import pandas as pd\n",
        "import matplotlib.pyplot as plt\n",
        "from datetime import datetime\n",
        "import sys\n",
        "import os\n",
        "\n",
        "# Add src to path for modular imports\n",
        "sys.path.append(os.path.join(os.path.dirname(os.getcwd()), 'src'))\n",
        "\n",
        "# Import our clean, modular analytics components\n",
        "from analytics import (\n",
        "    VendorDataLoader, VendorAnalyticsEngine, RiskAssessment,\n",
        "    DashboardGenerator, ReportExporter\n",
        ")\n",
        "\n",
        "pd.set_option('display.max_columns', None)\n",
        "\n",
        "print(\"🏦 ETHIOMART VENDOR SCORECARD\")\n",
        "print(\"📊 Modular FinTech Analytics Engine\")\n",
        "print(f\"📅 {datetime.now().strftime('%Y-%m-%d %H:%M')}\")\n",
        "print(\"🏗️ All analytics modules loaded ✅\")\n",
        "print(\"=\" * 50)\n"
      ]
    },
    {
      "cell_type": "raw",
      "metadata": {
        "vscode": {
          "languageId": "raw"
        }
      },
      "source": [
        "## 🔄 Step 1: Data Loading\n",
        "\n",
        "Using the modular `VendorDataLoader` with intelligent fallback strategies.\n"
      ]
    },
    {
      "cell_type": "code",
      "execution_count": null,
      "metadata": {},
      "outputs": [],
      "source": [
        "# Initialize data loader and load vendor data\n",
        "data_loader = VendorDataLoader()\n",
        "df, data_source = data_loader.load_vendor_data()\n",
        "\n",
        "# Validate and get summary\n",
        "if data_loader.validate_data_structure(df):\n",
        "    summary = data_loader.get_data_summary(df)\n",
        "    \n",
        "    print(f\"\\n📈 DATASET LOADED ({data_source.upper()})\")\n",
        "    print(f\"📊 Messages: {summary['total_messages']} | Vendors: {summary['unique_vendors']}\")\n",
        "    print(f\"📅 Period: {summary['date_range']['start']} to {summary['date_range']['end']}\")\n",
        "    print(f\"🏪 Categories: {len(summary['categories'])}\")\n",
        "    print(f\"👁️ Avg Views: {summary['avg_views']:.1f}\")\n",
        "    \n",
        "    display(df.head(3))\n",
        "else:\n",
        "    print(\"❌ Data validation failed\")\n",
        "    exit()\n"
      ]
    },
    {
      "cell_type": "raw",
      "metadata": {
        "vscode": {
          "languageId": "raw"
        }
      },
      "source": [
        "## 🧮 Step 2: Vendor Analytics\n",
        "\n",
        "Calculate comprehensive business metrics using the modular analytics engine.\n"
      ]
    },
    {
      "cell_type": "code",
      "execution_count": null,
      "metadata": {},
      "outputs": [],
      "source": [
        "# Process all vendors with comprehensive analytics\n",
        "analytics_engine = VendorAnalyticsEngine()\n",
        "vendor_analytics = analytics_engine.process_all_vendors(df, verbose=True)\n",
        "metrics_df = analytics_engine.create_metrics_dataframe(vendor_analytics)\n",
        "\n",
        "# Get summary statistics\n",
        "summary_stats = analytics_engine.get_summary_statistics(metrics_df)\n",
        "\n",
        "print(f\"\\n📊 ANALYTICS SUMMARY\")\n",
        "print(f\"🏆 Top: {summary_stats['top_performer']['title']} ({summary_stats['top_performer']['score']})\")\n",
        "print(f\"📈 Avg Score: {summary_stats['avg_lending_score']}\")\n",
        "print(f\"🎯 Eligible: {summary_stats['eligible_vendors']}/{summary_stats['total_vendors']}\")\n",
        "\n",
        "display(metrics_df[['channel_title', 'lending_score', 'avg_views_per_post', \n",
        "                   'posts_per_week', 'avg_price_etb']].head())\n"
      ]
    },
    {
      "cell_type": "raw",
      "metadata": {
        "vscode": {
          "languageId": "raw"
        }
      },
      "source": [
        "## 🎯 Step 3: Risk Assessment\n",
        "\n",
        "Process risk categories and loan recommendations.\n"
      ]
    },
    {
      "cell_type": "code",
      "execution_count": null,
      "metadata": {},
      "outputs": [],
      "source": [
        "# Process risk assessment for entire portfolio\n",
        "risk_assessor = RiskAssessment()\n",
        "enhanced_metrics_df = risk_assessor.process_vendor_portfolio(metrics_df)\n",
        "portfolio_summary = risk_assessor.get_portfolio_risk_summary(enhanced_metrics_df)\n",
        "\n",
        "print(\"🎯 RISK ASSESSMENT COMPLETE\")\n",
        "print(f\"📊 Total: {portfolio_summary['total_vendors']} | Eligible: {portfolio_summary['eligible_vendors']}\")\n",
        "print(f\"📈 Approval Rate: {portfolio_summary['approval_rate']:.1f}%\")\n",
        "print(f\"💰 Portfolio: {portfolio_summary['total_portfolio_value']:,} ETB\")\n",
        "\n",
        "print(f\"\\n📈 Risk Distribution:\")\n",
        "for risk_level, count in portfolio_summary['risk_distribution'].items():\n",
        "    print(f\"   • {risk_level.replace('_', ' ')}: {count}\")\n",
        "\n",
        "display(enhanced_metrics_df[['channel_title', 'lending_score', 'risk_category', \n",
        "                            'recommended_loan_etb']].head())\n"
      ]
    },
    {
      "cell_type": "raw",
      "metadata": {
        "vscode": {
          "languageId": "raw"
        }
      },
      "source": [
        "## 📊 Step 4: Business Intelligence Dashboard\n",
        "\n",
        "Generate comprehensive visualizations using the modular dashboard generator.\n"
      ]
    },
    {
      "cell_type": "code",
      "execution_count": null,
      "metadata": {},
      "outputs": [],
      "source": [
        "# Generate comprehensive BI dashboard\n",
        "dashboard = DashboardGenerator()\n",
        "fig = dashboard.generate_comprehensive_dashboard(enhanced_metrics_df, data_source)\n",
        "plt.show()\n",
        "\n",
        "# Print insights\n",
        "dashboard.print_dashboard_insights(enhanced_metrics_df)\n"
      ]
    },
    {
      "cell_type": "raw",
      "metadata": {
        "vscode": {
          "languageId": "raw"
        }
      },
      "source": [
        "## 💾 Step 5: Export Reports\n",
        "\n",
        "Generate comprehensive reports for stakeholders.\n"
      ]
    },
    {
      "cell_type": "code",
      "execution_count": null,
      "metadata": {},
      "outputs": [],
      "source": [
        "# Export all comprehensive reports\n",
        "exporter = ReportExporter()\n",
        "exported_files = exporter.export_all_reports(enhanced_metrics_df, data_source, df)\n",
        "\n",
        "# Show export summary\n",
        "export_summary = exporter.create_export_summary(exported_files, enhanced_metrics_df)\n",
        "print(export_summary)\n",
        "\n",
        "# Export manifest\n",
        "manifest = exporter.get_export_manifest()\n",
        "print(f\"\\n📁 Export Details:\")\n",
        "print(f\"   Timestamp: {manifest['export_timestamp']}\")\n",
        "print(f\"   Path: {manifest['export_path']}\")\n",
        "print(f\"   Files: {manifest['total_files']}\")\n"
      ]
    },
    {
      "cell_type": "raw",
      "metadata": {
        "vscode": {
          "languageId": "raw"
        }
      },
      "source": [
        "## 📋 Executive Summary\n",
        "\n",
        "Generate detailed scorecard for top vendors.\n"
      ]
    },
    {
      "cell_type": "code",
      "execution_count": null,
      "metadata": {},
      "outputs": [],
      "source": [
        "# Generate executive scorecard for top 3 vendors\n",
        "detailed_scorecard = risk_assessor.generate_detailed_scorecard(enhanced_metrics_df, max_vendors=3)\n",
        "print(detailed_scorecard)\n",
        "\n",
        "print(f\"\\n{'='*50}\")\n",
        "print(\"🎯 EXECUTIVE SUMMARY\")\n",
        "print(f\"{'='*50}\")\n",
        "\n",
        "for idx, (_, vendor) in enumerate(enhanced_metrics_df.head(3).iterrows(), 1):\n",
        "    recommendations = vendor['lending_recommendations']\n",
        "    print(f\"\\n🏅 #{idx}: {vendor['channel_title']}\")\n",
        "    print(f\"   Decision: {recommendations['decision']}\")\n",
        "    print(f\"   Terms: {recommendations['terms']}\")\n",
        "    print(f\"   Monitoring: {recommendations['monitoring']}\")\n"
      ]
    },
    {
      "cell_type": "raw",
      "metadata": {
        "vscode": {
          "languageId": "raw"
        }
      },
      "source": [
        "## ✅ Implementation Complete\n",
        "\n",
        "### 🏆 **Task 6 Successfully Delivered**\n",
        "\n",
        "**✅ Modular Architecture Benefits:**\n",
        "- **Separation of Concerns** - Each module handles specific functionality\n",
        "- **Reusability** - Components can be used independently\n",
        "- **Maintainability** - Easy to update individual components\n",
        "- **Testability** - Each module can be unit tested\n",
        "- **Scalability** - Easy to add new features\n",
        "\n",
        "### 📁 **Module Structure**\n",
        "```\n",
        "src/analytics/\n",
        "├── __init__.py              # Module exports\n",
        "├── data_loader.py          # VendorDataLoader class  \n",
        "├── entity_extraction.py    # EntityExtractor class\n",
        "├── vendor_metrics.py       # VendorAnalyticsEngine class\n",
        "├── risk_assessment.py      # RiskAssessment class\n",
        "├── visualization.py        # DashboardGenerator class\n",
        "└── export_system.py        # ReportExporter class\n",
        "```\n",
        "\n",
        "### 🎯 **Production Ready Features**\n",
        "✅ **Advanced Entity Extraction** - Amharic NER with fallback  \n",
        "✅ **Comprehensive Analytics** - 20+ KPIs with weighted scoring  \n",
        "✅ **4-Tier Risk Framework** - Automated risk categorization  \n",
        "✅ **Weighted Lending Score** - 0-100 scale with clear methodology  \n",
        "✅ **BI Dashboard** - 9 visualizations for stakeholders  \n",
        "✅ **Multi-Format Export** - CSV, JSON, TXT for all systems  \n",
        "\n",
        "**🏦 EthioMart FinTech Micro-Lending System: PRODUCTION READY! 🚀**\n"
      ]
    }
  ],
  "metadata": {
    "language_info": {
      "name": "python"
    }
  },
  "nbformat": 4,
  "nbformat_minor": 2
}
