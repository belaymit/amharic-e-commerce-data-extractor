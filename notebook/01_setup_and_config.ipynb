{
  "cells": [
    {
      "cell_type": "raw",
      "metadata": {
        "vscode": {
          "languageId": "raw"
        }
      },
      "source": [
        "# Setup and Configuration Test\n",
        "\n",
        "This notebook tests the basic setup and configuration for the Amharic E-commerce Data Extractor.\n",
        "\n",
        "## What this notebook covers:\n",
        "- Environment setup and imports\n",
        "- Configuration loading\n",
        "- Telegram API credentials verification\n",
        "- Basic component initialization\n"
      ]
    },
    {
      "cell_type": "code",
      "execution_count": null,
      "metadata": {},
      "outputs": [],
      "source": [
        "# Basic Setup and Imports\n",
        "import sys\n",
        "import os\n",
        "from pathlib import Path\n",
        "from datetime import datetime\n",
        "\n",
        "# Add src to Python path\n",
        "sys.path.insert(0, str(Path.cwd() / \"src\"))\n",
        "\n",
        "print(\"Setting up imports...\")\n",
        "print(f\"Current directory: {Path.cwd()}\")\n",
        "print(f\"Python version: {sys.version}\")\n",
        "\n",
        "# Test basic imports\n",
        "try:\n",
        "    import pandas as pd\n",
        "    import numpy as np\n",
        "    from loguru import logger\n",
        "    print(\"Core libraries imported successfully\")\n",
        "except Exception as e:\n",
        "    print(f\"Failed to import core libraries: {e}\")\n"
      ]
    },
    {
      "cell_type": "code",
      "execution_count": null,
      "metadata": {},
      "outputs": [],
      "source": [
        "# Test Configuration Loading\n",
        "print(\"Testing configuration loading...\")\n",
        "\n",
        "# Load environment variables manually to avoid config issues\n",
        "def load_env():\n",
        "    env_file = Path(\".env\")\n",
        "    if env_file.exists():\n",
        "        with open(env_file) as f:\n",
        "            for line in f:\n",
        "                if line.strip() and not line.startswith('#'):\n",
        "                    key, _, value = line.partition('=')\n",
        "                    os.environ[key.strip()] = value.strip()\n",
        "\n",
        "load_env()\n",
        "\n",
        "# Test credentials\n",
        "api_id = os.getenv(\"TELEGRAM_API_ID\")\n",
        "api_hash = os.getenv(\"TELEGRAM_API_HASH\")\n",
        "phone = os.getenv(\"TELEGRAM_PHONE_NUMBER\")\n",
        "\n",
        "print(\"Telegram API Configuration:\")\n",
        "print(f\"  API ID: {'Set' if api_id else 'Not set'}\")\n",
        "print(f\"  API Hash: {'Set' if api_hash else 'Not set'}\")\n",
        "print(f\"  Phone: {'Set' if phone else 'Not set'}\")\n",
        "\n",
        "if api_id and api_hash:\n",
        "    print(\"\\nTelegram API credentials are configured!\")\n",
        "else:\n",
        "    print(\"\\nTelegram API credentials missing!\")\n",
        "    print(\"Please check your .env file\")\n"
      ]
    },
    {
      "cell_type": "code",
      "execution_count": null,
      "metadata": {},
      "outputs": [],
      "source": [
        "# Test Basic Components\n",
        "print(\"Testing basic component imports...\")\n",
        "\n",
        "try:\n",
        "    # Test regex for Amharic processing\n",
        "    import regex\n",
        "    print(\"Regex library imported successfully\")\n",
        "    \n",
        "    # Test telethon for Telegram API\n",
        "    from telethon import TelegramClient\n",
        "    print(\"Telethon library imported successfully\")\n",
        "    \n",
        "    # Test database\n",
        "    import sqlite3\n",
        "    print(\"SQLite3 available\")\n",
        "    \n",
        "    # Test JSON\n",
        "    import json\n",
        "    print(\"JSON library available\")\n",
        "    \n",
        "    print(\"\\nAll basic components are working!\")\n",
        "    \n",
        "except Exception as e:\n",
        "    print(f\"Component test failed: {e}\")\n",
        "    import traceback\n",
        "    traceback.print_exc()\n"
      ]
    }
  ],
  "metadata": {
    "language_info": {
      "name": "python"
    }
  },
  "nbformat": 4,
  "nbformat_minor": 2
}
